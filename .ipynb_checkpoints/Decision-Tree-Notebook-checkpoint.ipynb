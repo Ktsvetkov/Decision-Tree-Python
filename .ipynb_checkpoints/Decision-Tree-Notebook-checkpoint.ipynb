{
 "cells": [
  {
   "cell_type": "markdown",
   "metadata": {},
   "source": [
    "# Import Data"
   ]
  },
  {
   "cell_type": "code",
   "execution_count": 11,
   "metadata": {
    "collapsed": false
   },
   "outputs": [
    {
     "name": "stdout",
     "output_type": "stream",
     "text": [
      "Attributes:\n",
      "[sepal-length, sepal-width, petal-length, petal-width, class]\n",
      "Iris-setosa example:\n",
      "['5.1', '3.5', '1.4', '0.2', 'Iris-setosa']\n",
      "Iris-versicolor example:\n",
      "['7.0', '3.2', '4.7', '1.4', 'Iris-versicolor']\n",
      "Iris-virginica example:\n",
      "['6.3', '3.3', '6.0', '2.5', 'Iris-virginica']\n",
      "Data Length: 150\n"
     ]
    }
   ],
   "source": [
    "iris_csv = open(\"iris.csv\", \"r\")\n",
    "iris_str = iris_csv.read()\n",
    "iris_array = iris_str.split(\"\\n\")\n",
    "iris_data = []\n",
    "for row in iris_array:\n",
    "    iris_data.append(row.split(\",\"))\n",
    "print(\"Attributes:\\n[sepal-length, sepal-width, petal-length, petal-width, class]\\n\")\n",
    "print(\"Iris-setosa example:\\n{ex}\\n\".format(ex=iris_data[0]))\n",
    "print(\"Iris-versicolor example:\\n{ex}\\n\".format(ex=iris_data[50]))\n",
    "print(\"Iris-virginica example:\\n{ex}\\n\".format(ex=iris_data[100]))\n",
    "print(\"Data Length: {data_len}\\n\".format(data_len=len(iris_data)))"
   ]
  },
  {
   "cell_type": "markdown",
   "metadata": {},
   "source": [
    "# Node Class"
   ]
  },
  {
   "cell_type": "code",
   "execution_count": 2,
   "metadata": {
    "collapsed": true
   },
   "outputs": [],
   "source": [
    "class node:\n",
    "    def __init__(self, attribute=None, split_value=None, left_branch=None, right_branch=None):\n",
    "        self.attribute = attribute\n",
    "        self.split_value = split_value\n",
    "        self.left_branch = left_branch\n",
    "        self.right_branch = right_branch"
   ]
  },
  {
   "cell_type": "markdown",
   "metadata": {},
   "source": [
    "# Selecting Attributes"
   ]
  },
  {
   "cell_type": "markdown",
   "metadata": {},
   "source": [
    "Equation 1: Entropy"
   ]
  },
  {
   "cell_type": "code",
   "execution_count": 3,
   "metadata": {
    "collapsed": true
   },
   "outputs": [],
   "source": [
    "def entropy(rows):\n",
    "    from math import log\n",
    "    log2=lambda x:log(x)/log(2)  \n",
    "    results=uniquecounts(rows)\n",
    "    # Now calculate the entropy\n",
    "    ent=0.0\n",
    "    for r in results.keys():\n",
    "        # current probability of class\n",
    "        p=float(results[r])/len(rows) \n",
    "        ent=ent-p*log2(p)\n",
    "    return ent"
   ]
  },
  {
   "cell_type": "markdown",
   "metadata": {},
   "source": [
    "# Tree Building "
   ]
  },
  {
   "cell_type": "code",
   "execution_count": null,
   "metadata": {
    "collapsed": true
   },
   "outputs": [],
   "source": [
    "def build_tree():\n",
    "    base_node = node()"
   ]
  }
 ],
 "metadata": {
  "kernelspec": {
   "display_name": "Python 2",
   "language": "python",
   "name": "python2"
  },
  "language_info": {
   "codemirror_mode": {
    "name": "ipython",
    "version": 2
   },
   "file_extension": ".py",
   "mimetype": "text/x-python",
   "name": "python",
   "nbconvert_exporter": "python",
   "pygments_lexer": "ipython2",
   "version": "2.7.13"
  }
 },
 "nbformat": 4,
 "nbformat_minor": 2
}
